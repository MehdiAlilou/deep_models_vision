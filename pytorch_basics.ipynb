{
 "cells": [
  {
   "cell_type": "code",
   "execution_count": 62,
   "id": "c3f587e2",
   "metadata": {},
   "outputs": [],
   "source": [
    "import torch\n",
    "import torchvision\n",
    "import torch.nn as nn\n",
    "import numpy as np\n",
    "import torchvision.transforms as transforms\n",
    "import matplotlib.pyplot as plt"
   ]
  },
  {
   "cell_type": "code",
   "execution_count": 11,
   "id": "83aae50a",
   "metadata": {},
   "outputs": [
    {
     "name": "stdout",
     "output_type": "stream",
     "text": [
      "tensor(2.)\n",
      "tensor(1.)\n",
      "tensor(1.)\n"
     ]
    }
   ],
   "source": [
    "######### Basic autograd example\n",
    "\n",
    "x=torch.tensor(1.,requires_grad=True)\n",
    "w=torch.tensor(2.,requires_grad=True)\n",
    "b=torch.tensor(3.,requires_grad=True)\n",
    "\n",
    "y=w*x+b;\n",
    "\n",
    "#compute gradients\n",
    "y.backward() \n",
    "\n",
    "#grad of y with respect to x\n",
    "print(x.grad)\n",
    "#grad of y with respect to w\n",
    "print(w.grad)\n",
    "#grad of y with respect to b\n",
    "print(b.grad)"
   ]
  },
  {
   "cell_type": "code",
   "execution_count": 47,
   "id": "96ab1be6",
   "metadata": {},
   "outputs": [
    {
     "name": "stdout",
     "output_type": "stream",
     "text": [
      "loss after epoch 1 : 1.3083192110061646\n",
      "loss after epoch 2 : 1.2726593017578125\n",
      "loss after epoch 3 : 1.204689383506775\n",
      "w Parameter containing:\n",
      "tensor([[ 0.4470, -0.5758,  0.1440],\n",
      "        [-0.1623, -0.1145, -0.2574]], requires_grad=True) \n",
      " dy/dw tensor([[-1.9943e-01, -4.9910e-04, -8.8744e-01],\n",
      "        [ 1.6083e+00,  4.7897e-01, -1.6531e-01]])\n"
     ]
    }
   ],
   "source": [
    "# train a linear model (3,2), 3 is input(features) ad 2 output(neurons) to map random x(10,3) to y(10,2)\n",
    "torch.manual_seed(0)\n",
    "x=torch.randn(10,3)\n",
    "y=torch.randn(10,2)\n",
    "\n",
    "linear1=nn.Linear(3,2)\n",
    "\n",
    "criterion=nn.MSELoss()\n",
    "optimizer=torch.optim.SGD(linear1.parameters(),lr=0.02)\n",
    "\n",
    "for epoch in range(3):\n",
    "    out=linear1(x)\n",
    "    loss=criterion(out,y)\n",
    "    loss.backward()\n",
    "    # 1-step gradient descent.\n",
    "    optimizer.step()\n",
    "    print('loss after epoch '+str(epoch+1)+' :', loss.item())\n",
    "\n",
    "#print(x,y,linear1.weight,out,loss)\n",
    "print('w',linear1.weight,'\\n','dy/dw', linear1.weight.grad)\n",
    "\n"
   ]
  },
  {
   "cell_type": "code",
   "execution_count": 53,
   "id": "1d45c805",
   "metadata": {},
   "outputs": [
    {
     "name": "stdout",
     "output_type": "stream",
     "text": [
      "[[1 2]\n",
      " [3 4]] tensor([[1, 2],\n",
      "        [3, 4]], dtype=torch.int32) [[1 2]\n",
      " [3 4]]\n"
     ]
    }
   ],
   "source": [
    "# ================================================================== #\n",
    "#                     3. Loading data from numpy                     #\n",
    "# ================================================================== #\n",
    "x=np.array([[1,2],[3,4]])\n",
    "x2=torch.from_numpy(x)\n",
    "x3=x2.numpy()\n",
    "print(x,x2,x3)"
   ]
  },
  {
   "cell_type": "code",
   "execution_count": 79,
   "id": "847a8fe0",
   "metadata": {
    "scrolled": true
   },
   "outputs": [
    {
     "name": "stdout",
     "output_type": "stream",
     "text": [
      "Files already downloaded and verified\n",
      "torch.Size([64, 3, 32, 32])\n",
      "0 torch.Size([64, 3, 32, 32]) torch.Size([64])\n"
     ]
    }
   ],
   "source": [
    "# ================================================================== #\n",
    "#                         4. Input pipeline                           #\n",
    "# ================================================================== #\n",
    "\n",
    "train_dataset=torchvision.datasets.CIFAR10(root='./data',train=True,transform=transforms.ToTensor(),download=True)\n",
    "img,lbl=train_dataset[0]\n",
    "#plt.imshow(np.moveaxis(img.numpy(),0,-1))\n",
    "train_dataloader=torch.utils.data.DataLoader(dataset=train_dataset,batch_size=64,shuffle=True)\n",
    "\n",
    "img,lbl=next(iter(train_dataloader))\n",
    "print(img.shape)\n",
    "\n",
    "for i,(img,lbl) in enumerate(train_dataloader):\n",
    "    pass\n",
    "    print(i,img.shape,lbl.shape)\n",
    "    break"
   ]
  },
  {
   "cell_type": "code",
   "execution_count": null,
   "id": "8efe2350",
   "metadata": {},
   "outputs": [],
   "source": [
    "# ================================================================== #\n",
    "#                5. Input pipeline for custom dataset                 #\n",
    "# ================================================================== #\n"
   ]
  }
 ],
 "metadata": {
  "kernelspec": {
   "display_name": "Python 3",
   "language": "python",
   "name": "python3"
  },
  "language_info": {
   "codemirror_mode": {
    "name": "ipython",
    "version": 3
   },
   "file_extension": ".py",
   "mimetype": "text/x-python",
   "name": "python",
   "nbconvert_exporter": "python",
   "pygments_lexer": "ipython3",
   "version": "3.6.13"
  }
 },
 "nbformat": 4,
 "nbformat_minor": 5
}
